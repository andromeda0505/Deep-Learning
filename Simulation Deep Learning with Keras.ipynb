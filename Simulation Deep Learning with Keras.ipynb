{
 "cells": [
  {
   "cell_type": "markdown",
   "metadata": {},
   "source": [
    "### Import necessary libraries"
   ]
  },
  {
   "cell_type": "code",
   "execution_count": 2,
   "metadata": {},
   "outputs": [],
   "source": [
    "import numpy as np\n",
    "import tensorflow as tf\n",
    "from keras.models import Sequential\n",
    "from keras.layers import Dense\n",
    "from keras.layers import Activation "
   ]
  },
  {
   "cell_type": "markdown",
   "metadata": {},
   "source": [
    "### Randomly generated dataset"
   ]
  },
  {
   "cell_type": "code",
   "execution_count": 8,
   "metadata": {},
   "outputs": [],
   "source": [
    "# Generating training dataset\n",
    "np.random.seed(2019)\n",
    "X_train = np.random.random((6000,10))\n",
    "y_train = np.random.randint(2, size = (6000, 1))"
   ]
  },
  {
   "cell_type": "code",
   "execution_count": 10,
   "metadata": {},
   "outputs": [],
   "source": [
    "# Generating validation dataset\n",
    "X_val = np.random.random((2000,10))\n",
    "y_val = np.random.randint(2, size = (2000,1))"
   ]
  },
  {
   "cell_type": "code",
   "execution_count": 11,
   "metadata": {},
   "outputs": [],
   "source": [
    "# Generating test dataset\n",
    "X_test = np.random.random((2000,10))\n",
    "y_test = np.random.randint(2, size = (2000,1) )"
   ]
  },
  {
   "cell_type": "markdown",
   "metadata": {},
   "source": [
    "### Model architecture"
   ]
  },
  {
   "cell_type": "code",
   "execution_count": 14,
   "metadata": {},
   "outputs": [],
   "source": [
    "model = Sequential()\n",
    "model.add(Dense(64, input_dim=10, activation='relu')) # First layer with 64 nodes. \n",
    "model.add(Dense(32, activation = 'relu'))             # Second layer with 32 nodes\n",
    "model.add(Dense(16, activation = 'relu'))             # Third layer with 16 nodes\n",
    "model.add(Dense(8, activation = 'relu'))              # Forth layer with 8 nodes\n",
    "model.add(Dense(4, activation = 'relu'))              # Fifth layer with 4 nodes\n",
    "model.add(Dense(1, activation = 'sigmoid'))           # output layer"
   ]
  },
  {
   "cell_type": "markdown",
   "metadata": {},
   "source": [
    "### Configuration "
   ]
  },
  {
   "cell_type": "code",
   "execution_count": 15,
   "metadata": {},
   "outputs": [],
   "source": [
    "model.compile(optimizer='Adam',loss='binary_crossentropy', metrics=['accuracy'])"
   ]
  },
  {
   "cell_type": "markdown",
   "metadata": {},
   "source": [
    "### Train the model"
   ]
  },
  {
   "cell_type": "code",
   "execution_count": 17,
   "metadata": {},
   "outputs": [
    {
     "name": "stdout",
     "output_type": "stream",
     "text": [
      "Train on 6000 samples, validate on 2000 samples\n",
      "Epoch 1/3\n",
      "6000/6000 [==============================] - 1s 159us/step - loss: 0.6934 - accuracy: 0.5047 - val_loss: 0.6940 - val_accuracy: 0.4935\n",
      "Epoch 2/3\n",
      "6000/6000 [==============================] - 0s 58us/step - loss: 0.6931 - accuracy: 0.5078 - val_loss: 0.6938 - val_accuracy: 0.4945\n",
      "Epoch 3/3\n",
      "6000/6000 [==============================] - 0s 60us/step - loss: 0.6932 - accuracy: 0.5002 - val_loss: 0.6946 - val_accuracy: 0.4935\n"
     ]
    },
    {
     "data": {
      "text/plain": [
       "<keras.callbacks.callbacks.History at 0x2021c70b208>"
      ]
     },
     "execution_count": 17,
     "metadata": {},
     "output_type": "execute_result"
    }
   ],
   "source": [
    "model.fit(X_train, y_train, batch_size=64, epochs=3, validation_data=(X_val,y_val))"
   ]
  },
  {
   "cell_type": "markdown",
   "metadata": {},
   "source": [
    "### Model Evaluation"
   ]
  },
  {
   "cell_type": "code",
   "execution_count": 19,
   "metadata": {},
   "outputs": [
    {
     "name": "stdout",
     "output_type": "stream",
     "text": [
      "2000/2000 [==============================] - 0s 86us/step\n",
      "The model performance is as follows:\n",
      "  [0.6950370211601258, 0.49300000071525574]\n"
     ]
    }
   ],
   "source": [
    "print('The model performance is as follows:\\n ',model.evaluate(X_test,y_test))"
   ]
  },
  {
   "cell_type": "code",
   "execution_count": 29,
   "metadata": {},
   "outputs": [
    {
     "name": "stdout",
     "output_type": "stream",
     "text": [
      "2000/2000 [==============================] - 0s 37us/step\n"
     ]
    },
    {
     "data": {
      "text/plain": [
       "[['loss', 'accuracy'], [0.6950370211601258, 0.49300000071525574]]"
      ]
     },
     "execution_count": 29,
     "metadata": {},
     "output_type": "execute_result"
    }
   ],
   "source": [
    "[model.metrics_names, model.evaluate(X_test,y_test)]"
   ]
  },
  {
   "cell_type": "code",
   "execution_count": null,
   "metadata": {},
   "outputs": [],
   "source": []
  },
  {
   "cell_type": "code",
   "execution_count": 30,
   "metadata": {},
   "outputs": [
    {
     "name": "stdout",
     "output_type": "stream",
     "text": [
      "2000/2000 [==============================] - 0s 53us/step\n",
      "loss : 0.6950370211601258\n",
      "2000/2000 [==============================] - 0s 43us/step\n",
      "accuracy : 0.49300000071525574\n"
     ]
    }
   ],
   "source": [
    "for i in range(len(model.metrics_names)):\n",
    "    print(model.metrics_names[i], ':', model.evaluate(X_test,y_test)[i])\n",
    "# Not a good model but expected as it was a randomely generated dataset. "
   ]
  },
  {
   "cell_type": "markdown",
   "metadata": {},
   "source": [
    "### Prediction"
   ]
  },
  {
   "cell_type": "code",
   "execution_count": 25,
   "metadata": {},
   "outputs": [
    {
     "data": {
      "text/plain": [
       "array([[0.48374724],\n",
       "       [0.4729282 ],\n",
       "       [0.47323045],\n",
       "       [0.47977254],\n",
       "       [0.48829973],\n",
       "       [0.48431864],\n",
       "       [0.48770544],\n",
       "       [0.4713711 ],\n",
       "       [0.47983298],\n",
       "       [0.4771508 ]], dtype=float32)"
      ]
     },
     "execution_count": 25,
     "metadata": {},
     "output_type": "execute_result"
    }
   ],
   "source": [
    "pred = model.predict(X_test)\n",
    "pred[:10]"
   ]
  },
  {
   "cell_type": "code",
   "execution_count": null,
   "metadata": {},
   "outputs": [],
   "source": []
  }
 ],
 "metadata": {
  "kernelspec": {
   "display_name": "Python 3",
   "language": "python",
   "name": "python3"
  },
  "language_info": {
   "codemirror_mode": {
    "name": "ipython",
    "version": 3
   },
   "file_extension": ".py",
   "mimetype": "text/x-python",
   "name": "python",
   "nbconvert_exporter": "python",
   "pygments_lexer": "ipython3",
   "version": "3.7.3"
  }
 },
 "nbformat": 4,
 "nbformat_minor": 2
}
